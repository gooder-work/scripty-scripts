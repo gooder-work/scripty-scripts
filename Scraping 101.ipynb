{
 "cells": [
  {
   "cell_type": "code",
   "execution_count": 54,
   "metadata": {},
   "outputs": [],
   "source": [
    "import requests\n",
    "from bs4 import BeautifulSoup\n",
    "import re"
   ]
  },
  {
   "cell_type": "code",
   "execution_count": 5,
   "metadata": {},
   "outputs": [],
   "source": [
    "page = requests.get('https://www.techjobsforgood.com/')\n",
    "contents = page.content\n",
    "soup = BeautifulSoup(contents, 'html.parser')"
   ]
  },
  {
   "cell_type": "code",
   "execution_count": 74,
   "metadata": {},
   "outputs": [],
   "source": [
    "cards = soup.find_all('div', 'card')\n",
    "jobs = []\n",
    "for card in cards:\n",
    "    job = {}\n",
    "    \n",
    "    job['title'] = re.findall(\"\\n\\s+(.+)\\n\\s+\", card.find_all('div', 'header')[0].string)[0]\n",
    "    job['location'] = card.find_all('span', 'location')[0].string\n",
    "    job['job_link'] = re.findall(\"location\\.href='(.+)'\", card.find_all('button', 'green')[0]['onclick'])[0]\n",
    "    job['company'] = re.findall(\"\\n\\s+(.+)\\n\\s+\", card.find_all('button', ['ui', 'button'])[0].string)[0]\n",
    "    job['company_url'] = re.findall(\"window.open\\('(.+)(?:\\?ref=techjobsforgood)*', '_blank'\\)\", card.find_all('button', ['ui', 'button'])[0]['onclick'])[0]\n",
    "    \n",
    "    jobs.append(job)"
   ]
  },
  {
   "cell_type": "code",
   "execution_count": 75,
   "metadata": {},
   "outputs": [
    {
     "data": {
      "text/plain": [
       "[{'title': 'Product Manager',\n",
       "  'location': 'Philadelphia, PA',\n",
       "  'job_link': '/jobs/716',\n",
       "  'company': 'Benefits Data Trust',\n",
       "  'company_url': 'https://www.bdtrust.org/?ref=techjobsforgood'},\n",
       " {'title': 'Senior Data Scientist',\n",
       "  'location': 'Mountain View, CA',\n",
       "  'job_link': '/jobs/715',\n",
       "  'company': 'Coursera',\n",
       "  'company_url': 'https://www.coursera.org/?ref=techjobsforgood'},\n",
       " {'title': 'Experience Design Director',\n",
       "  'location': 'Boston, MA/Portsmouth, NH',\n",
       "  'job_link': '/jobs/714',\n",
       "  'company': 'Mad*Pow',\n",
       "  'company_url': 'https://madpow.com/?ref=techjobsforgood'},\n",
       " {'title': 'Senior Software Engineer',\n",
       "  'location': 'San Francisco, CA',\n",
       "  'job_link': '/jobs/713',\n",
       "  'company': 'Medisas',\n",
       "  'company_url': 'https://www.medisas.com/?ref=techjobsforgood'},\n",
       " {'title': 'Data Engineer',\n",
       "  'location': 'Oakland, CA',\n",
       "  'job_link': '/jobs/712',\n",
       "  'company': 'Binti',\n",
       "  'company_url': 'https://binti.com/?ref=techjobsforgood'},\n",
       " {'title': 'Senior Product Designer',\n",
       "  'location': 'New York, NY',\n",
       "  'job_link': '/jobs/711',\n",
       "  'company': 'MobilizeAmerica',\n",
       "  'company_url': 'https://www.mobilizeamerica.io/?ref=techjobsforgood'},\n",
       " {'title': 'Data Analyst',\n",
       "  'location': 'Tucson, AZ',\n",
       "  'job_link': '/jobs/710',\n",
       "  'company': 'StriveTogether',\n",
       "  'company_url': 'https://www.strivetogether.org/?ref=techjobsforgood'},\n",
       " {'title': 'Lead Product Designer',\n",
       "  'location': 'San Francisco, CA',\n",
       "  'job_link': '/jobs/709',\n",
       "  'company': 'Code for America',\n",
       "  'company_url': 'https://www.codeforamerica.org/?ref=techjobsforgood'},\n",
       " {'title': 'UX designer / developer (React)',\n",
       "  'location': 'San Francisco, CA/Salt Lake City, UT/Chicago, IL',\n",
       "  'job_link': '/jobs/708',\n",
       "  'company': 'Superconductive Health',\n",
       "  'company_url': 'https://superconductivehealth.com/?ref=techjobsforgood'},\n",
       " {'title': 'Software Engineer, Full Stack',\n",
       "  'location': 'San Francisco, CA',\n",
       "  'job_link': '/jobs/707',\n",
       "  'company': 'Angaza',\n",
       "  'company_url': 'https://www.angaza.com/?ref=techjobsforgood'},\n",
       " {'title': 'Senior Product Manager',\n",
       "  'location': 'New York, NY',\n",
       "  'job_link': '/jobs/706',\n",
       "  'company': 'Shine',\n",
       "  'company_url': 'https://www.shinetext.com/?ref=techjobsforgood'},\n",
       " {'title': 'Front End Designer',\n",
       "  'location': 'San Francisco, CA',\n",
       "  'job_link': '/jobs/705',\n",
       "  'company': 'San Francisco Digital Services',\n",
       "  'company_url': 'https://digitalservices.sfgov.org/?source=techjobsforgood'},\n",
       " {'title': 'Quality Jobs Landscape Analysis Consultant',\n",
       "  'location': 'Remote (USA)',\n",
       "  'job_link': '/jobs/704',\n",
       "  'company': 'NDWA Labs',\n",
       "  'company_url': 'https://www.ndwalabs.org/?source=techjobsforgood'},\n",
       " {'title': 'US Digital Campaigner',\n",
       "  'location': 'Washington, DC',\n",
       "  'job_link': '/jobs/703',\n",
       "  'company': '350.org',\n",
       "  'company_url': 'https://350.org/?source=techjobsforgood'},\n",
       " {'title': 'Junior ML Engineer',\n",
       "  'location': 'San Francisco, CA',\n",
       "  'job_link': '/jobs/702',\n",
       "  'company': 'Afresh Technologies',\n",
       "  'company_url': 'https://afreshtechnologies.com/?ref=techjobsforgood'}]"
      ]
     },
     "execution_count": 75,
     "metadata": {},
     "output_type": "execute_result"
    }
   ],
   "source": [
    "jobs"
   ]
  },
  {
   "cell_type": "code",
   "execution_count": null,
   "metadata": {},
   "outputs": [],
   "source": []
  }
 ],
 "metadata": {
  "kernelspec": {
   "display_name": "Python 3",
   "language": "python",
   "name": "python3"
  },
  "language_info": {
   "codemirror_mode": {
    "name": "ipython",
    "version": 3
   },
   "file_extension": ".py",
   "mimetype": "text/x-python",
   "name": "python",
   "nbconvert_exporter": "python",
   "pygments_lexer": "ipython3",
   "version": "3.7.3"
  }
 },
 "nbformat": 4,
 "nbformat_minor": 2
}
